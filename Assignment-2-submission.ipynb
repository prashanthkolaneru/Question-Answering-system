{
 "cells": [
  {
   "cell_type": "code",
   "execution_count": 20,
   "id": "842233a6",
   "metadata": {},
   "outputs": [],
   "source": [
    "import docx2txt\n",
    "import nltk\n",
    "from sklearn.feature_extraction.text import TfidfVectorizer\n",
    "from sklearn.metrics.pairwise import cosine_similarity\n",
    "text = docx2txt.process(r\"sample_policy_document.docx\")\n"
   ]
  },
  {
   "cell_type": "code",
   "execution_count": 21,
   "id": "b84ed14f",
   "metadata": {},
   "outputs": [
    {
     "name": "stdout",
     "output_type": "stream",
     "text": [
      "D.2.1 Total disability benefit\n",
      "\n",
      "\n",
      "\n",
      "If the person insured is totally disabled, we will pay you the total disability benefit. \n",
      "\n",
      "The total disability benefit is calculated monthly and we will pay you half a month in arrears and half a month in advance. \n",
      "\n",
      "The definition of totally disabled depends on the person insured’s occupation category. \n",
      "\n",
      "\n",
      "\n",
      "Where the Schedule specifies the occupation category as MP, AA, A, B or C \n",
      "\n",
      "The person insured is totally disabled if, because of an injury or sickness, he or she is: \n",
      "\n",
      "not capable of doing the important duties of his or her occupation \n",
      "\n",
      "not working in any occupation (whether paid or unpaid), and \n",
      "\n",
      "under medical care. \n",
      "\n",
      "However, if immediately preceding a claim the person insured has been unemployed for 15 months or on leave without pay for 12 months, he or she is totally disabled if, because of an injury or sickness, he or she is: \n",
      "\n",
      "not capable of performing any occupation (whether paid or unpaid) for which he or she is reasonably suited by education, training or experience \n",
      "\n",
      "not working in any occupation (whether paid or unpaid), and \n",
      "\n",
      "under medical care.\n",
      "\n",
      "\n",
      "\n",
      "Where the Schedule specifies the occupation category as D \n",
      "\n",
      "The person insured is totally disabled if, because of an injury or sickness, he or she is: \n",
      "\n",
      "not capable of doing the important duties of his or her occupation \n",
      "\n",
      "not working in any occupation (whether paid or unpaid), and \n",
      "\n",
      "under medical care. \n",
      "\n",
      "After the first two years of a claim, the person insured is totally disabled if, because of an injury or sickness he or she is: \n",
      "\n",
      "not capable of performing any occupation (whether paid or unpaid) for which he or she is reasonably suited by education, training or experience \n",
      "\n",
      "not working in any occupation (whether paid or unpaid), and \n",
      "\n",
      "under medical care. \n",
      "\n",
      "However, if immediately preceding a claim the person insured has been unemployed for 15 months or on leave without pay for 12 months, he or she is totally disabled if, because of an injury or sickness, he or she is: \n",
      "\n",
      "not capable of performing any occupation (whether paid or unpaid) for which he or she is reasonably suited by education, training or experience \n",
      "\n",
      "not working in any occupation (whether paid or unpaid), and \n",
      "\n",
      "under medical care.\n"
     ]
    }
   ],
   "source": [
    "print(text)\n"
   ]
  },
  {
   "cell_type": "code",
   "execution_count": 22,
   "id": "2b457c47",
   "metadata": {},
   "outputs": [
    {
     "name": "stderr",
     "output_type": "stream",
     "text": [
      "[nltk_data] Downloading package punkt to\n",
      "[nltk_data]     C:\\Users\\User\\AppData\\Roaming\\nltk_data...\n",
      "[nltk_data]   Package punkt is already up-to-date!\n"
     ]
    }
   ],
   "source": [
    "nltk.download('punkt')\n",
    "sentences = nltk.sent_tokenize(text.lower().strip())\n"
   ]
  },
  {
   "cell_type": "code",
   "execution_count": 23,
   "id": "db1d26ec",
   "metadata": {},
   "outputs": [
    {
     "data": {
      "text/plain": [
       "['d.2.1 total disability benefit\\n\\n\\n\\nif the person insured is totally disabled, we will pay you the total disability benefit.',\n",
       " 'the total disability benefit is calculated monthly and we will pay you half a month in arrears and half a month in advance.',\n",
       " 'the definition of totally disabled depends on the person insured’s occupation category.',\n",
       " 'where the schedule specifies the occupation category as mp, aa, a, b or c \\n\\nthe person insured is totally disabled if, because of an injury or sickness, he or she is: \\n\\nnot capable of doing the important duties of his or her occupation \\n\\nnot working in any occupation (whether paid or unpaid), and \\n\\nunder medical care.',\n",
       " 'however, if immediately preceding a claim the person insured has been unemployed for 15 months or on leave without pay for 12 months, he or she is totally disabled if, because of an injury or sickness, he or she is: \\n\\nnot capable of performing any occupation (whether paid or unpaid) for which he or she is reasonably suited by education, training or experience \\n\\nnot working in any occupation (whether paid or unpaid), and \\n\\nunder medical care.',\n",
       " 'where the schedule specifies the occupation category as d \\n\\nthe person insured is totally disabled if, because of an injury or sickness, he or she is: \\n\\nnot capable of doing the important duties of his or her occupation \\n\\nnot working in any occupation (whether paid or unpaid), and \\n\\nunder medical care.',\n",
       " 'after the first two years of a claim, the person insured is totally disabled if, because of an injury or sickness he or she is: \\n\\nnot capable of performing any occupation (whether paid or unpaid) for which he or she is reasonably suited by education, training or experience \\n\\nnot working in any occupation (whether paid or unpaid), and \\n\\nunder medical care.',\n",
       " 'however, if immediately preceding a claim the person insured has been unemployed for 15 months or on leave without pay for 12 months, he or she is totally disabled if, because of an injury or sickness, he or she is: \\n\\nnot capable of performing any occupation (whether paid or unpaid) for which he or she is reasonably suited by education, training or experience \\n\\nnot working in any occupation (whether paid or unpaid), and \\n\\nunder medical care.']"
      ]
     },
     "execution_count": 23,
     "metadata": {},
     "output_type": "execute_result"
    }
   ],
   "source": [
    "sentences"
   ]
  },
  {
   "cell_type": "code",
   "execution_count": 27,
   "id": "79323d7e",
   "metadata": {},
   "outputs": [],
   "source": [
    "heading = sentences[0].split('\\n\\n\\n')[0]"
   ]
  },
  {
   "cell_type": "code",
   "execution_count": 28,
   "id": "7e077556",
   "metadata": {},
   "outputs": [],
   "source": [
    "# remove heading from the document\n",
    "sentences[0] = sentences[0].split('\\n\\n\\n')[1]"
   ]
  },
  {
   "cell_type": "code",
   "execution_count": 29,
   "id": "87831409",
   "metadata": {},
   "outputs": [
    {
     "data": {
      "text/plain": [
       "['\\nif the person insured is totally disabled, we will pay you the total disability benefit.',\n",
       " 'the total disability benefit is calculated monthly and we will pay you half a month in arrears and half a month in advance.',\n",
       " 'the definition of totally disabled depends on the person insured’s occupation category.',\n",
       " 'where the schedule specifies the occupation category as mp, aa, a, b or c \\n\\nthe person insured is totally disabled if, because of an injury or sickness, he or she is: \\n\\nnot capable of doing the important duties of his or her occupation \\n\\nnot working in any occupation (whether paid or unpaid), and \\n\\nunder medical care.',\n",
       " 'however, if immediately preceding a claim the person insured has been unemployed for 15 months or on leave without pay for 12 months, he or she is totally disabled if, because of an injury or sickness, he or she is: \\n\\nnot capable of performing any occupation (whether paid or unpaid) for which he or she is reasonably suited by education, training or experience \\n\\nnot working in any occupation (whether paid or unpaid), and \\n\\nunder medical care.',\n",
       " 'where the schedule specifies the occupation category as d \\n\\nthe person insured is totally disabled if, because of an injury or sickness, he or she is: \\n\\nnot capable of doing the important duties of his or her occupation \\n\\nnot working in any occupation (whether paid or unpaid), and \\n\\nunder medical care.',\n",
       " 'after the first two years of a claim, the person insured is totally disabled if, because of an injury or sickness he or she is: \\n\\nnot capable of performing any occupation (whether paid or unpaid) for which he or she is reasonably suited by education, training or experience \\n\\nnot working in any occupation (whether paid or unpaid), and \\n\\nunder medical care.',\n",
       " 'however, if immediately preceding a claim the person insured has been unemployed for 15 months or on leave without pay for 12 months, he or she is totally disabled if, because of an injury or sickness, he or she is: \\n\\nnot capable of performing any occupation (whether paid or unpaid) for which he or she is reasonably suited by education, training or experience \\n\\nnot working in any occupation (whether paid or unpaid), and \\n\\nunder medical care.']"
      ]
     },
     "execution_count": 29,
     "metadata": {},
     "output_type": "execute_result"
    }
   ],
   "source": [
    "sentences"
   ]
  },
  {
   "cell_type": "code",
   "execution_count": 30,
   "id": "7b748b87",
   "metadata": {},
   "outputs": [],
   "source": [
    "questions = [\"How often total disability is calculated? \",\n",
    "             \"How to pay the total disability?\",\n",
    "             \"What the definition of total disability depends on\",\n",
    "            \"The definition of total disability for occupation category as MP, AA, A, B or C\"]"
   ]
  },
  {
   "cell_type": "code",
   "execution_count": 34,
   "id": "e5c32c2d",
   "metadata": {},
   "outputs": [
    {
     "name": "stdout",
     "output_type": "stream",
     "text": [
      "question: How to pay the total disability?\n",
      "Answer: \n",
      "if the person insured is totally disabled, we will pay you the total disability benefit.\n"
     ]
    }
   ],
   "source": [
    "#Tfidf based on Ngrams\n",
    "tfidf_vectorizer = TfidfVectorizer(ngram_range=(1,2))\n",
    "\n",
    "# Generating the tf-idf matrix for the text\n",
    "tfidf_matrix = tfidf_vectorizer.fit_transform(sentences)\n",
    "\n",
    "# Function to get the response to a user's query\n",
    "def get_response(query):\n",
    "  query_tokens = nltk.sent_tokenize(query)\n",
    "  query_vector = tfidf_vectorizer.transform(query_tokens)\n",
    "  scores = cosine_similarity(query_vector, tfidf_matrix)\n",
    "  max_index = scores.argmax()\n",
    "  return sentences[max_index]\n",
    "\n",
    "# Example usage\n",
    "query = \"How to pay the total disability?\"\n",
    "response = get_response(query)\n",
    "print(\"question:\", query)\n",
    "print(\"Answer:\", response)"
   ]
  },
  {
   "cell_type": "code",
   "execution_count": 48,
   "id": "9d4e358b",
   "metadata": {},
   "outputs": [
    {
     "name": "stdout",
     "output_type": "stream",
     "text": [
      "question-0: How often total disability is calculated? \n",
      "Answer: the total disability benefit is calculated monthly and we will pay you half a month in arrears and half a month in advance.\n",
      "question-1: How to pay the total disability?\n",
      "Answer: if the person insured is totally disabled, we will pay you the total disability benefit.\n",
      "question-2: What the definition of total disability depends on\n",
      "Answer: the definition of totally disabled depends on the person insured’s occupation category.\n",
      "question-3: The definition of total disability for occupation category as MP, AA, A, B or C\n",
      "Answer: where the schedule specifies the occupation category as mp, aa, a, b or c \n",
      "\n",
      "the person insured is totally disabled if, because of an injury or sickness, he or she is: \n",
      "\n",
      "not capable of doing the important duties of his or her occupation \n",
      "\n",
      "not working in any occupation (whether paid or unpaid), and \n",
      "\n",
      "under medical care.\n"
     ]
    }
   ],
   "source": [
    "index = 0\n",
    "for query in questions:\n",
    "    response = get_response(query.lower().strip())\n",
    "    print(\"question\" + '-' + str(index)  + \":\", query)\n",
    "    print(\"Answer:\", response.strip())\n",
    "    index = index + 1"
   ]
  },
  {
   "cell_type": "code",
   "execution_count": null,
   "id": "2ed66ead",
   "metadata": {},
   "outputs": [],
   "source": []
  }
 ],
 "metadata": {
  "kernelspec": {
   "display_name": "Python 3 (ipykernel)",
   "language": "python",
   "name": "python3"
  },
  "language_info": {
   "codemirror_mode": {
    "name": "ipython",
    "version": 3
   },
   "file_extension": ".py",
   "mimetype": "text/x-python",
   "name": "python",
   "nbconvert_exporter": "python",
   "pygments_lexer": "ipython3",
   "version": "3.10.4"
  }
 },
 "nbformat": 4,
 "nbformat_minor": 5
}
